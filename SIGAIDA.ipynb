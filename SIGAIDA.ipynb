{
 "cells": [
  {
   "cell_type": "code",
   "execution_count": 1,
   "id": "acoustic-marble",
   "metadata": {},
   "outputs": [],
   "source": [
    "from allennlp.predictors.predictor import Predictor\n",
    "import allennlp_models.tagging\n",
    "from nltk import ParentedTree"
   ]
  },
  {
   "cell_type": "code",
   "execution_count": 2,
   "id": "narrow-galaxy",
   "metadata": {},
   "outputs": [
    {
     "name": "stderr",
     "output_type": "stream",
     "text": [
      "/Users/ryoheinamiki515/opt/anaconda3/envs/SIGAIDA/lib/python3.8/site-packages/torch/nn/modules/container.py:435: UserWarning: Setting attributes on ParameterList is not supported.\n",
      "  warnings.warn(\"Setting attributes on ParameterList is not supported.\")\n"
     ]
    }
   ],
   "source": [
    "predictor = Predictor.from_path(\"https://storage.googleapis.com/allennlp-public-models/elmo-constituency-parser-2020.02.10.tar.gz\")"
   ]
  },
  {
   "cell_type": "code",
   "execution_count": 27,
   "id": "elder-middle",
   "metadata": {},
   "outputs": [],
   "source": [
    "def filt_r(x):\n",
    "    if x.label() == \"S\":\n",
    "        right_siblings = []\n",
    "        r = x\n",
    "        while r:\n",
    "            if r.label() != \".\":\n",
    "                right_siblings.append(r.label())\n",
    "            r = r.right_sibling()\n",
    "    else:\n",
    "        return False\n",
    "    if right_siblings == [\"S\", \",\", \"CC\", \"S\"] or right_siblings == [\"S\", \":\", \"S\"] or right_siblings == [\"S\", \",\", \"S\"]:\n",
    "        return True\n",
    "    return False\n",
    "\n",
    "def filt_l(x):\n",
    "    if x.label() == \"S\":\n",
    "        left_siblings = []\n",
    "        l = x\n",
    "        while l:\n",
    "            if l.label() != \".\":\n",
    "                left_siblings.append(l.label())\n",
    "            l = l.left_sibling()\n",
    "    else:\n",
    "        return False\n",
    "    if left_siblings[::-1] == [\"S\", \",\", \"CC\", \"S\"] or left_siblings[::-1] == [\"S\", \":\", \"S\"] or left_siblings == [\"S\", \",\", \"S\"]:\n",
    "        return True\n",
    "    return False\n",
    "\n",
    "def extract_independent_clauses(input_sent):\n",
    "    output = predictor.predict(sentence=input_sent)\n",
    "    tree_str = output[\"trees\"]\n",
    "    t = ParentedTree.fromstring(tree_str)\n",
    "    candidate_nodes = list(t.subtrees(filter=lambda x: filt_r(x) or filt_l(x)))\n",
    "    for node in candidate_nodes:\n",
    "        if node.parent() in candidate_nodes:\n",
    "            candidate_nodes.remove(node.parent())\n",
    "    sub_sentences = []\n",
    "    for candidate in candidate_nodes:\n",
    "        temp = []\n",
    "        for subtree in candidate:\n",
    "            temp += subtree.leaves()\n",
    "        sub_sentences.append(temp)\n",
    "    sub_sentences = sub_sentences if sub_sentences else [t.leaves()]\n",
    "    sentences = []\n",
    "    for sentence in sub_sentences:\n",
    "        temp = \"\"\n",
    "        for i, word in enumerate(sentence):\n",
    "            if i == 0:\n",
    "                temp += word[0].title() + word[1:]\n",
    "            elif word in [\".\", \"!\", \"?\", \",\", \";\"]:\n",
    "                temp += word\n",
    "            else:\n",
    "                temp += \" \" + word\n",
    "        sentences.append(temp)\n",
    "    return sentences"
   ]
  },
  {
   "cell_type": "code",
   "execution_count": 32,
   "id": "muslim-daily",
   "metadata": {},
   "outputs": [],
   "source": [
    "input_sent = \"The cat is tired, but it is still awake; in addition, this is a really long sentence\""
   ]
  },
  {
   "cell_type": "code",
   "execution_count": 33,
   "id": "blind-philippines",
   "metadata": {},
   "outputs": [
    {
     "data": {
      "text/plain": [
       "['The cat is tired',\n",
       " 'It is still awake',\n",
       " 'In addition, this is a really long sentence']"
      ]
     },
     "execution_count": 33,
     "metadata": {},
     "output_type": "execute_result"
    }
   ],
   "source": [
    "extract_independent_clauses(input_sent)"
   ]
  },
  {
   "cell_type": "code",
   "execution_count": 7,
   "id": "intended-april",
   "metadata": {},
   "outputs": [],
   "source": [
    "input_sent = \"This fundamental question guides a number of language ﬁelds that pursue three kinds of understanding about language: descriptive, evolutionary and developmental.\""
   ]
  },
  {
   "cell_type": "code",
   "execution_count": 8,
   "id": "technological-gamma",
   "metadata": {},
   "outputs": [
    {
     "data": {
      "text/plain": [
       "['This fundamental question guides a number of language ﬁelds that pursue three kinds of understanding about language : descriptive, evolutionary and developmental.']"
      ]
     },
     "execution_count": 8,
     "metadata": {},
     "output_type": "execute_result"
    }
   ],
   "source": [
    "extract_independent_clauses(input_sent)"
   ]
  },
  {
   "cell_type": "code",
   "execution_count": 9,
   "id": "friendly-penny",
   "metadata": {},
   "outputs": [],
   "source": [
    "input_sent = \"Despite this daunting linguistic variety, however, all languages, no matter how different from each other they may seem (Arabic from American Sign Language from Chinese from English from Spanish from Swahili), share fundamental commonalities, a universal core of very abstract properties.\""
   ]
  },
  {
   "cell_type": "code",
   "execution_count": 10,
   "id": "unauthorized-sailing",
   "metadata": {},
   "outputs": [
    {
     "data": {
      "text/plain": [
       "['Despite this daunting linguistic variety, however, all languages, no matter how different from each other they may seem Arabic from American Sign Language from Chinese from English from Spanish from Swahili, share fundamental commonalities, a universal core of very abstract properties.']"
      ]
     },
     "execution_count": 10,
     "metadata": {},
     "output_type": "execute_result"
    }
   ],
   "source": [
    "extract_independent_clauses(input_sent)"
   ]
  },
  {
   "cell_type": "code",
   "execution_count": 30,
   "id": "differential-eleven",
   "metadata": {},
   "outputs": [
    {
     "name": "stdout",
     "output_type": "stream",
     "text": [
      " The cat is tired, but the dog is still awake; in addition, this is a really long sentence ['The cat is tired', 'The dog is still awake', 'This is a really long sentence']\n"
     ]
    }
   ],
   "source": [
    "for sent in example.split(\".\"):\n",
    "    if not sent:\n",
    "        continue\n",
    "    output = extract_independent_clauses(sent)\n",
    "    if len(output) > 1:\n",
    "        print(sent, output)        "
   ]
  },
  {
   "cell_type": "code",
   "execution_count": 28,
   "id": "commercial-space",
   "metadata": {},
   "outputs": [
    {
     "data": {
      "text/plain": [
       "['We will return to this issue in the next section']"
      ]
     },
     "execution_count": 28,
     "metadata": {},
     "output_type": "execute_result"
    }
   ],
   "source": [
    "output"
   ]
  },
  {
   "cell_type": "code",
   "execution_count": 25,
   "id": "outer-tennessee",
   "metadata": {},
   "outputs": [],
   "source": [
    "output = predictor.predict(sentence=input_sent)\n",
    "tree_str = output[\"trees\"]\n",
    "t = ParentedTree.fromstring(tree_str)"
   ]
  },
  {
   "cell_type": "code",
   "execution_count": 26,
   "id": "promotional-covering",
   "metadata": {},
   "outputs": [
    {
     "data": {
      "image/png": "[encoded data removed]",
      "text/plain": [
       "ParentedTree('S', [ParentedTree('S', [ParentedTree('S', [ParentedTree('NP', [ParentedTree('DT', ['The']), ParentedTree('NN', ['cat'])]), ParentedTree('VP', [ParentedTree('VBZ', ['is']), ParentedTree('ADJP', [ParentedTree('JJ', ['tired'])])])]), ParentedTree(',', [',']), ParentedTree('CC', ['but']), ParentedTree('S', [ParentedTree('NP', [ParentedTree('DT', ['the']), ParentedTree('NN', ['dog'])]), ParentedTree('VP', [ParentedTree('VBZ', ['is']), ParentedTree('ADVP', [ParentedTree('RB', ['still'])]), ParentedTree('ADJP', [ParentedTree('JJ', ['awake'])])])])]), ParentedTree(':', [';']), ParentedTree('S', [ParentedTree('PP', [ParentedTree('IN', ['in']), ParentedTree('NP', [ParentedTree('NN', ['addition'])])]), ParentedTree(',', [',']), ParentedTree('NP', [ParentedTree('DT', ['this'])]), ParentedTree('VP', [ParentedTree('VBZ', ['is']), ParentedTree('NP', [ParentedTree('DT', ['a']), ParentedTree('ADJP', [ParentedTree('RB', ['really']), ParentedTree('JJ', ['long'])]), ParentedTree('NN', ['sentence'])])])])])"
      ]
     },
     "execution_count": 26,
     "metadata": {},
     "output_type": "execute_result"
    }
   ],
   "source": [
    "t"
   ]
  },
  {
   "cell_type": "code",
   "execution_count": null,
   "id": "adaptive-floating",
   "metadata": {},
   "outputs": [],
   "source": []
  }
 ],
 "metadata": {
  "kernelspec": {
   "display_name": "Python 3",
   "language": "python",
   "name": "python3"
  },
  "language_info": {
   "codemirror_mode": {
    "name": "ipython",
    "version": 3
   },
   "file_extension": ".py",
   "mimetype": "text/x-python",
   "name": "python",
   "nbconvert_exporter": "python",
   "pygments_lexer": "ipython3",
   "version": "3.8.5"
  }
 },
 "nbformat": 4,
 "nbformat_minor": 5
}
